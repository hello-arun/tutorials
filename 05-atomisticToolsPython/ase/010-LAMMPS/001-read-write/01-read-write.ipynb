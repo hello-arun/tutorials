{
 "cells": [
  {
   "cell_type": "markdown",
   "id": "71769e33-a544-43d2-b7c0-3a598cc8b3e7",
   "metadata": {
    "tags": []
   },
   "source": [
    "# Reading data file\n",
    "ASE can read different data files. You just have to specify the correct format string.\n",
    "The format strings can be found at. https://wiki.fysik.dtu.dk/ase/ase/io/io.html.\n",
    "Some basic fomat strings are ex.\n",
    "\n",
    "| Format String | Description |\n",
    "| ---: | :--- |\n",
    "| vasp | POSCAR/CONTCAR |\n",
    "| vasp-out | OUTCAR |\n",
    "| vasp-xdatcar | XDATCAR |\n",
    "| vasp-xml | vasprun.xml |\n",
    "| espresso-in | Quantum espresso in file |\n",
    "| espresso-out | Quantum espresso out file |\n",
    "| lammps-data | LAMMPS data file |\n",
    "| lammps-dump-binary | LAMMPS binary dump file |\n",
    "| lammps-dump-text | LAMMPS text dump file |"
   ]
  },
  {
   "cell_type": "markdown",
   "id": "52e67be0-e88d-4c06-8fd6-a1cf87c31e13",
   "metadata": {},
   "source": [
    "## Reading lammps files"
   ]
  },
  {
   "cell_type": "code",
   "execution_count": 1,
   "id": "f7ab2a8d-860d-4e2d-8aea-c56b24a70b34",
   "metadata": {},
   "outputs": [
    {
     "data": {
      "text/plain": [
       "(Atoms(symbols='H2760He5520', pbc=True, cell=[253.84800719382486, 95.58136523239597, 20.0], id=..., initial_charges=..., masses=..., mmcharges=..., momenta=..., travel=..., type=...),\n",
       " ase.atoms.Atoms)"
      ]
     },
     "execution_count": 1,
     "metadata": {},
     "output_type": "execute_result"
    }
   ],
   "source": [
    "from ase.io import lammpsdata\n",
    "lmp_data = lammpsdata.read_lammps_data(\"./data/2H-MoS2-in.lmp\",\n",
    "                                       style=\"charge\",\n",
    "                                       units=\"real\")\n",
    "lmp_data, type(lmp_data)"
   ]
  },
  {
   "cell_type": "markdown",
   "id": "b5f5e952-2e2b-4428-bbfb-29dcf588b30d",
   "metadata": {},
   "source": [
    "lmp_data have ase.atoms.Atoms type. The listed methods are same for all other reading methods also. "
   ]
  },
  {
   "cell_type": "code",
   "execution_count": 2,
   "id": "f9af4d97-97bf-4327-bb5d-4f624dba17ce",
   "metadata": {},
   "outputs": [
    {
     "data": {
      "text/plain": [
       "(array([[  1.08293784,   1.64164494,   8.40662106],\n",
       "        [  1.06852429,   4.83062714,   8.41133573],\n",
       "        [  1.06547351,   8.01899   ,   8.42039964],\n",
       "        ...,\n",
       "        [252.17490914,  95.63388543,   8.40959402],\n",
       "        [242.97997433,  79.71644293,   9.99290165],\n",
       "        [241.12903734,  79.71525134,  11.57009069]]),\n",
       " array([32.06000001, 32.06000001, 32.06000001, ..., 32.06000001,\n",
       "        95.95000002, 32.06000001]),\n",
       " array([-0.20766339, -0.20755786, -0.20751313, ..., -0.20753254,\n",
       "         0.41505463, -0.20724349]),\n",
       " array([2, 2, 2, ..., 2, 1, 2]))"
      ]
     },
     "execution_count": 2,
     "metadata": {},
     "output_type": "execute_result"
    }
   ],
   "source": [
    "atomic_positions = lmp_data.get_positions()\n",
    "atomic_masses = lmp_data.get_masses()\n",
    "atomic_charges = lmp_data.get_initial_charges()\n",
    "atomic_numbers = lmp_data.get_atomic_numbers()\n",
    "atomic_positions, atomic_masses, atomic_charges, atomic_numbers"
   ]
  },
  {
   "cell_type": "code",
   "execution_count": 5,
   "id": "92290a3b-8f97-49b8-8490-e28e2635bfc1",
   "metadata": {},
   "outputs": [
    {
     "name": "stdout",
     "output_type": "stream",
     "text": [
      "./data/2H-MoS2-out.lmp (written by ASE) \n",
      "\n",
      "8280 \t atoms \n",
      "2  atom types\n",
      "0.0      253.84800719382486  xlo xhi\n",
      "0.0      95.581365232395967  ylo yhi\n",
      "0.0                      20  zlo zhi\n",
      "\n",
      "\n",
      "Atoms \n"
     ]
    }
   ],
   "source": [
    "lammpsdata.write_lammps_data(\"./data/2H-MoS2-out.lmp\",\n",
    "                             lmp_data,\n",
    "                             atom_style=\"charge\")\n",
    "! head ./data/2H-MoS2-out.lmp"
   ]
  },
  {
   "cell_type": "markdown",
   "id": "a1831d4d-7cba-4ed0-999d-dff7fe58d2a5",
   "metadata": {},
   "source": [
    "<font color='red'> You can note that the atom types in input lammpsdata file are read as atomic numbers.\n",
    "So be aware while adding new atoms to the list. If you want to add 3rd atom use 3rd atomic number element. </font>"
   ]
  }
 ],
 "metadata": {
  "kernelspec": {
   "display_name": "Python 3",
   "language": "python",
   "name": "python3"
  },
  "language_info": {
   "codemirror_mode": {
    "name": "ipython",
    "version": 3
   },
   "file_extension": ".py",
   "mimetype": "text/x-python",
   "name": "python",
   "nbconvert_exporter": "python",
   "pygments_lexer": "ipython3",
   "version": "3.9.9"
  }
 },
 "nbformat": 4,
 "nbformat_minor": 5
}
