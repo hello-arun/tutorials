{
 "cells": [
  {
   "cell_type": "code",
   "execution_count": null,
   "id": "76272f72-f5e5-448c-8c76-5161cf899a0c",
   "metadata": {},
   "outputs": [],
   "source": [
    "from shapely.geometry import Polygon,Point\n",
    "from shapely import affinity\n",
    "from math import tan,pi,cos,sin,sqrt\n",
    "import matplotlib.pyplot as plt\n",
    "from ase.io import lammpsdata\n",
    "import ase.atoms as atoms\n",
    "import numpy as np\n",
    "import sys\n",
    "import ase.build as build"
   ]
  },
  {
   "cell_type": "code",
   "execution_count": null,
   "id": "89c3b855-d07c-40ba-82f7-391b2850a361",
   "metadata": {},
   "outputs": [],
   "source": [
    "def inside(pos,cuts):\n",
    "    p=Point(pos[0],pos[1])\n",
    "    for shape in cuts:\n",
    "        if(not shape.contains(p)):\n",
    "            return True\n",
    "    return False"
   ]
  },
  {
   "cell_type": "code",
   "execution_count": null,
   "id": "645d71a7-ac57-4e11-9f4c-0c89d84c5d0b",
   "metadata": {},
   "outputs": [],
   "source": []
  },
  {
   "cell_type": "code",
   "execution_count": null,
   "id": "a8a2713d-657a-4ccb-aad5-3a397420a49d",
   "metadata": {},
   "outputs": [
    {
     "name": "stdout",
     "output_type": "stream",
     "text": [
      "Cell([176.58991804787814, 127.4418203098613, 20.0])\n"
     ]
    },
    {
     "data": {
      "text/plain": [
       "[<matplotlib.lines.Line2D at 0x23bbb97deb0>]"
      ]
     },
     "execution_count": 3,
     "metadata": {},
     "output_type": "execute_result"
    },
    {
     "data": {
      "image/png": "[encoded data removed]",
      "text/plain": [
       "<Figure size 432x288 with 1 Axes>"
      ]
     },
     "metadata": {
      "needs_background": "light"
     },
     "output_type": "display_data"
    }
   ],
   "source": [
    "lmp_in_file_name = \"./POSCAR.lmp\"  # do not change this\n",
    "HP = 0 #float(sys.argv[2])\n",
    "sx = 32 #int(sys.argv[3])   # supercell along x factor\n",
    "sy = 40 # int(sys.argv[4])   # supercell along y factor\n",
    "lmp_out_file_name = \"./POSCAR-cut-90deg.lmp\" # sys.argv[7]\n",
    "\n",
    "np.random.seed(1)  # To reproduce the results\n",
    "\n",
    "H_S_bl = 1.4  # Hydrogen-Sulfer bond length\n",
    "\n",
    "lmp_data = lammpsdata.read_lammps_data(lmp_in_file_name,\n",
    "                                       style=\"charge\",\n",
    "                                       units=\"real\")\n",
    "\n",
    "lmp_data = lmp_data*(sx, sy, 1)\n",
    "\n",
    "\n",
    "atomic_positions = lmp_data.get_positions()\n",
    "atomic_numbers = lmp_data.get_atomic_numbers()\n",
    "\n",
    "S_positions = atomic_positions[np.where(atomic_numbers == 2)[0]]\n",
    "\n",
    "S_no = S_positions.shape[0]  # Total number of Sulfer atoms\n",
    "\n",
    "H_no = int(S_no*HP/100)  # We obtain the integer number\n",
    "\n",
    "H_no_top = H_no//2\n",
    "H_no_bot = H_no - H_no_top\n",
    "\n",
    "S_positions_top = S_positions[S_positions[:, 2] > 10]\n",
    "S_positions_bot = S_positions[S_positions[:, 2] < 10]\n",
    "\n",
    "top_indicies = np.random.choice(\n",
    "    S_positions_top.shape[0], H_no_top, replace=False)\n",
    "bot_indicies = np.random.choice(\n",
    "    S_positions_bot.shape[0], H_no_bot, replace=False)\n",
    "\n",
    "# Now we are ready to add Hydrogen\n",
    "for i in top_indicies:\n",
    "    # Since if we specify H here then it will confuse with the atom type 1\n",
    "    lmp_data.append(\"Li\")\n",
    "    lmp_data.positions[-1] = S_positions_top[i]+np.array([0, 0, H_S_bl])\n",
    "for i in bot_indicies:\n",
    "    lmp_data.append(\"Li\")\n",
    "    lmp_data.positions[-1] = S_positions_bot[i]+np.array([0, 0, -H_S_bl])\n",
    "print(lmp_data.cell)\n",
    "plt.plot(lmp_data.get_positions()[:,0],lmp_data.get_positions()[:,1],\".k\")\n",
    "# plt.savefig(\"plot.svg\")"
   ]
  },
  {
   "cell_type": "code",
   "execution_count": 4,
   "id": "ca9900f0-c25f-43f1-ae39-caf134fb7149",
   "metadata": {},
   "outputs": [
    {
     "data": {
      "image/png": "[encoded data removed]",
      "text/plain": [
       "<Figure size 432x288 with 1 Axes>"
      ]
     },
     "metadata": {
      "needs_background": "light"
     },
     "output_type": "display_data"
    }
   ],
   "source": [
    "lx = lmp_data.cell[0,0]/2\n",
    "ly = lmp_data.cell[1,1]/2\n",
    "# t = lx*0.1\n",
    "# lxp= lx - t\n",
    "# lyp= ly - t\n",
    "\n",
    "# tt = 2*t*0.3  # Fraction of t to cover while cutting\n",
    "# theta = 20 # deg\n",
    "# deg = pi/180.0\n",
    "# a = (lx - t * (1 + tan(theta*deg))) * cos(theta*deg) - t;\n",
    "# print(a/lx)\n",
    "scale=100\n",
    "triangle = Polygon(([0, 0], [1, 0], [0.5,sqrt(3)/2]))\n",
    "triangle = affinity.scale(triangle,scale,scale,origin=(0,0,0))\n",
    "triangle = affinity.translate(triangle,lx/2,ly/2-5)\n",
    "triangle = affinity.rotate(triangle,90)\n",
    "plt.plot(lmp_data.get_positions()[:,0],lmp_data.get_positions()[:,1],\".k\")\n",
    "plt.plot(*triangle.exterior.xy)\n",
    "plt.plot(*triangle.exterior.xy)\n",
    "all_cuts=[triangle]"
   ]
  },
  {
   "cell_type": "code",
   "execution_count": 5,
   "id": "60a723d1-aa32-4123-8f68-f63d5b6e5f2d",
   "metadata": {},
   "outputs": [
    {
     "name": "stdout",
     "output_type": "stream",
     "text": [
      "Cell([176.58991804787814, 127.4418203098613, 20.0])\n",
      "Cell([102.7838754004341, 115.58580980335701, 23.187507035345014])\n"
     ]
    },
    {
     "data": {
      "image/png": "[encoded data removed]",
      "text/plain": [
       "<Figure size 432x288 with 1 Axes>"
      ]
     },
     "metadata": {
      "needs_background": "light"
     },
     "output_type": "display_data"
    }
   ],
   "source": [
    "lmp_data.set_initial_charges(lmp_data.get_initial_charges()*0.0)\n",
    "lammpsdata.write_lammps_data(\"./POSCAR-uncut.lmp\", lmp_data, atom_style=\"charge\")\n",
    "lmp_data_cut:atoms =lmp_data.copy()\n",
    "del lmp_data_cut[[atom.index for atom in lmp_data_cut if inside(atom.position,all_cuts)]]\n",
    "atomic_positions=lmp_data_cut.get_positions()\n",
    "xbounds=[np.min(atomic_positions[:,0]),np.max(atomic_positions[:,1])]\n",
    "ybounds=[np.min(atomic_positions[:,1]),np.max(atomic_positions[:,1])]\n",
    "print(lmp_data_cut.cell)\n",
    "# plt.plot(lmp_data_cut.get_positions()[:,0],lmp_data_cut.get_positions()[:,1],\".k\")\n",
    "\n",
    "lmp_data_cut.center(10)\n",
    "print(lmp_data_cut.cell)\n",
    "\n",
    "plt.plot(lmp_data_cut.get_positions()[:,0],lmp_data_cut.get_positions()[:,1],\".k\")\n",
    "\n",
    "lammpsdata.write_lammps_data(lmp_out_file_name, lmp_data_cut, atom_style=\"charge\")\n",
    "data = open(lmp_out_file_name, \"r+\").readlines()\n",
    "data[0] = f\"Pristine 2H-MoS2 plus {HP}% Hydrogen\\n\"\n",
    "open(lmp_out_file_name, \"w\").writelines(data)\n",
    "\n"
   ]
  },
  {
   "cell_type": "code",
   "execution_count": 6,
   "id": "5520ce46-a081-4304-be3a-326dd4189ba1",
   "metadata": {},
   "outputs": [],
   "source": [
    "def inside2(pos,cuts):\n",
    "    p=Point(pos[0],pos[1])\n",
    "    for shape in cuts:\n",
    "        if(shape.contains(p)):\n",
    "            return True\n",
    "    return False"
   ]
  },
  {
   "cell_type": "code",
   "execution_count": 17,
   "id": "c7c7ea69-08ea-42b0-b2d2-01fed0628b32",
   "metadata": {},
   "outputs": [
    {
     "name": "stdout",
     "output_type": "stream",
     "text": [
      "10.0 92.78387540043411 10.0 105.58580980335701\n",
      "POLYGON ((9.5 57.792904901678504, 22.49038105676658 65.2929049016785, 22.49038105676658 50.292904901678504, 9.5 57.792904901678504))\n",
      "POLYGON ((80.14704773426081 98.43936319395029, 93.13742879102739 105.93936319395029, 93.13742879102739 90.93936319395029, 80.14704773426081 98.43936319395029))\n",
      "POLYGON ((80.14704773426081 17.146446609406727, 93.13742879102739 24.646446609406727, 93.13742879102739 9.646446609406727, 80.14704773426081 17.146446609406727))\n"
     ]
    },
    {
     "data": {
      "image/png": "[encoded data removed]",
      "text/plain": [
       "<Figure size 432x288 with 1 Axes>"
      ]
     },
     "metadata": {
      "needs_background": "light"
     },
     "output_type": "display_data"
    }
   ],
   "source": [
    "size = 15\n",
    "shift=0.5\n",
    "poss=lmp_data_cut.get_positions()\n",
    "atomic_nos=lmp_data_cut.get_atomic_numbers()\n",
    "xmin = np.min(poss[:,0])\n",
    "xmax = np.max(poss[:,0])\n",
    "ymin = np.min(poss[:,1])\n",
    "ymax = np.max(poss[:,1])\n",
    "\n",
    "print(xmin,xmax,ymin,ymax)\n",
    "tri =Polygon(([0,0],[size*sqrt(3)/2,size/2],[size*sqrt(3)/2,-size/2]))\n",
    "left = affinity.translate(tri,xmin-shift,(ymin+ymax)/2)\n",
    "down = affinity.translate(tri,xmax-size*sqrt(3)/2+shift*sqrt(2)/2,-shift/sqrt(2)+ymin+size/2)\n",
    "up = affinity.translate(tri,xmax-size*sqrt(3)/2+shift*sqrt(2)/2,+shift/sqrt(2)+ymax-size/2)\n",
    "\n",
    "plt.plot(lmp_data_cut.get_positions()[:,0],lmp_data_cut.get_positions()[:,1],\".k\")\n",
    "plt.plot(*left.exterior.xy)\n",
    "plt.plot(*down.exterior.xy)\n",
    "plt.plot(*up.exterior.xy)\n",
    "all_cuts=[left,up,down]\n",
    "for i in all_cuts:\n",
    "    print(i)\n",
    "for i in range(len(atomic_nos)):\n",
    "    if(atomic_nos[i] == 1 and inside2(poss[i,:],all_cuts)):\n",
    "            atomic_nos[i]=3\n",
    "    elif(atomic_nos[i] == 2 and inside2(poss[i,:],all_cuts)):\n",
    "            atomic_nos[i]=4\n",
    "lmp_data_cut_new=lmp_data_cut.copy()\n",
    "# lmp_data_cut_new.set_atomic_numbers(atomic_nos)\n",
    "lammpsdata.write_lammps_data(\"temp.lmp\", lmp_data_cut_new, atom_style=\"charge\")\n"
   ]
  },
  {
   "cell_type": "code",
   "execution_count": null,
   "id": "5d4a7c8f-dd34-4187-9213-5a034923afb1",
   "metadata": {},
   "outputs": [],
   "source": [
    "\n"
   ]
  }
 ],
 "metadata": {
  "kernelspec": {
   "display_name": "Python 3 (ipykernel)",
   "language": "python",
   "name": "python3"
  },
  "language_info": {
   "codemirror_mode": {
    "name": "ipython",
    "version": 3
   },
   "file_extension": ".py",
   "mimetype": "text/x-python",
   "name": "python",
   "nbconvert_exporter": "python",
   "pygments_lexer": "ipython3",
   "version": "3.9.10"
  }
 },
 "nbformat": 4,
 "nbformat_minor": 5
}
