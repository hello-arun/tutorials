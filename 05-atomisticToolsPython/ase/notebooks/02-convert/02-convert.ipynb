{
 "cells": [
  {
   "cell_type": "markdown",
   "id": "d086fb60-143e-4085-9f7d-fc686e55db98",
   "metadata": {
    "tags": []
   },
   "source": [
    "### Convert from vasp to lammpsdata file"
   ]
  },
  {
   "cell_type": "code",
   "execution_count": 1,
   "id": "f4565cf0-355e-437c-8a2d-a12e68ba63b2",
   "metadata": {},
   "outputs": [],
   "source": [
    "import ase.io.lammpsdata as lammps\n",
    "import ase.io.vasp as vasp\n",
    "in_file = \"./data/POSCAR-in.vasp\"\n",
    "out_file = \"./data/POSCAR-out.lmp\"\n",
    "POSCAR_vasp = vasp.read_vasp(in_file)\n",
    "lammps.write_lammps_data(out_file, POSCAR_vasp)"
   ]
  },
  {
   "cell_type": "code",
   "execution_count": 2,
   "id": "368e2edc-e7bf-46cb-9a03-036292b17f52",
   "metadata": {},
   "outputs": [
    {
     "name": "stdout",
     "output_type": "stream",
     "text": [
      "==> ./data/POSCAR-in.vasp <==\n",
      "1T\\MoS2\\small\n",
      "1.0\n",
      "        5.6291656494         0.0000000000         0.0000000000\n",
      "        0.0000000000         3.2499992847         0.0000000000\n",
      "        0.0000000000         0.0000000000        20.0000000000\n",
      "   Mo    S\n",
      "    2    4\n",
      "Cartesian\n",
      "\n",
      "==> ./data/POSCAR-out.lmp <==\n",
      "./data/POSCAR-out.lmp (written by ASE) \n",
      "\n",
      "6 \t atoms \n",
      "2  atom types\n",
      "0.0            5.6291656494  xlo xhi\n",
      "0.0      3.2499992846999999  ylo yhi\n",
      "0.0                      20  zlo zhi\n",
      "\n"
     ]
    }
   ],
   "source": [
    "! head -8 ./data/POSCAR-in.vasp ./data/POSCAR-out.lmp "
   ]
  }
 ],
 "metadata": {
  "kernelspec": {
   "display_name": "Python 3",
   "language": "python",
   "name": "python3"
  },
  "language_info": {
   "codemirror_mode": {
    "name": "ipython",
    "version": 3
   },
   "file_extension": ".py",
   "mimetype": "text/x-python",
   "name": "python",
   "nbconvert_exporter": "python",
   "pygments_lexer": "ipython3",
   "version": "3.9.9"
  }
 },
 "nbformat": 4,
 "nbformat_minor": 5
}
