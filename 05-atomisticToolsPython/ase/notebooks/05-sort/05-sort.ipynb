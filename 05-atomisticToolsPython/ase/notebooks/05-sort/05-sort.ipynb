{
 "cells": [
  {
   "cell_type": "code",
   "execution_count": 1,
   "id": "57b4d786-8b04-412d-bf08-92956418977a",
   "metadata": {},
   "outputs": [],
   "source": [
    "from ase.io import lammpsdata\n",
    "import ase.build as build\n",
    "lmp_data = lammpsdata.read_lammps_data(\"./data/2H-MoS2-in.lmp\",\n",
    "                                       style=\"charge\",\n",
    "                                       units=\"real\")\n",
    "atomic_positions = lmp_data.get_positions()\n",
    "sorted_lmp_data = build.sort(lmp_data, tags=-atomic_positions[:, 2])\n",
    "lammpsdata.write_lammps_data(\"./data/2H-MoS2-sorted-out.lmp\",\n",
    "                             sorted_lmp_data,\n",
    "                             atom_style=\"charge\")"
   ]
  }
 ],
 "metadata": {
  "kernelspec": {
   "display_name": "Python 3",
   "language": "python",
   "name": "python3"
  },
  "language_info": {
   "codemirror_mode": {
    "name": "ipython",
    "version": 3
   },
   "file_extension": ".py",
   "mimetype": "text/x-python",
   "name": "python",
   "nbconvert_exporter": "python",
   "pygments_lexer": "ipython3",
   "version": "3.9.9"
  }
 },
 "nbformat": 4,
 "nbformat_minor": 5
}
