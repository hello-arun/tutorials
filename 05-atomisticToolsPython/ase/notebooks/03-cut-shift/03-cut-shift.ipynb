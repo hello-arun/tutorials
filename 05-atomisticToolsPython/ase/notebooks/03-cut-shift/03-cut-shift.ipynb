{
 "cells": [
  {
   "cell_type": "markdown",
   "id": "92510e91-3232-468f-911e-7cb448b4804b",
   "metadata": {},
   "source": [
    "### Cut a supercell into small cell\n",
    "We try to cut a lammps data superell into much smaller cell"
   ]
  },
  {
   "cell_type": "code",
   "execution_count": 1,
   "id": "0b268de8-ebfd-4635-8941-0f81d2f2b2ea",
   "metadata": {},
   "outputs": [
    {
     "data": {
      "text/plain": [
       "(8280, Cell([252.4393061451272, 94.89858886535205, 19.236492664770214]))"
      ]
     },
     "execution_count": 1,
     "metadata": {},
     "output_type": "execute_result"
    }
   ],
   "source": [
    "import ase.io.lammpsdata as lammps\n",
    "import ase.build as build\n",
    "supercell_file = \"./data/1T-MoS2-cut-in.lmp\"  # a 46*30*1 supercell file\n",
    "supercell_data = lammps.read_lammps_data(supercell_file,\n",
    "                                         style=\"charge\",\n",
    "                                         units=\"real\")\n",
    "supercell_data.positions.shape[0], supercell_data.cell"
   ]
  },
  {
   "cell_type": "code",
   "execution_count": 2,
   "id": "af5094ed-042b-4339-ac69-96e9eab06483",
   "metadata": {},
   "outputs": [
    {
     "data": {
      "text/plain": [
       "(6, Cell([5.487811003154939, 3.163286295511735, 19.236492664770214]))"
      ]
     },
     "execution_count": 2,
     "metadata": {},
     "output_type": "execute_result"
    }
   ],
   "source": [
    "smaller_cell = build.cut(supercell_data,\n",
    "                         a=(1.0/46, 0, 0),\n",
    "                         b=(0, 1.0/30, 0),\n",
    "                         c=(0, 0, 1.0))\n",
    "smaller_cell.positions.shape[0], smaller_cell.cell"
   ]
  },
  {
   "cell_type": "code",
   "execution_count": 3,
   "id": "2bb58486-ec67-424f-8b42-b698cde2d92a",
   "metadata": {},
   "outputs": [],
   "source": [
    "# for Viusalisation\n",
    "lammps.write_lammps_data(\"./data/1T-MoS2-cut-out.lmp\",\n",
    "                         smaller_cell,\n",
    "                         atom_style=\"charge\")"
   ]
  },
  {
   "cell_type": "markdown",
   "id": "b5476dd8-4b0f-4e46-a748-aae7300ee128",
   "metadata": {},
   "source": [
    "### Shift one layer of 1T-MoS2 to make it 2H-MoS2\n"
   ]
  },
  {
   "cell_type": "code",
   "execution_count": null,
   "id": "a87afdb8-07cd-48a5-bf72-42193c4e0e4c",
   "metadata": {},
   "outputs": [],
   "source": [
    "#! mv ../results/temp2.lammps ../data/1T-MoS2/POSCAR_unitcell.lmp"
   ]
  },
  {
   "cell_type": "code",
   "execution_count": 12,
   "id": "96b217d9-54c4-41a1-832e-72f72f86c3d6",
   "metadata": {},
   "outputs": [
    {
     "name": "stdout",
     "output_type": "stream",
     "text": [
      "Unit  Cell([5.487811003154939, 3.163286295511735, 19.236492664770214])\n",
      "Super Cell([54.87811003154939, 31.63286295511735, 19.236492664770214])\n"
     ]
    }
   ],
   "source": [
    "import ase.io.lammpsdata as lammps\n",
    "import ase.build as build\n",
    "import numpy as np\n",
    "in_file = \"./data/1T-MoS2-shift-in.lmp\"\n",
    "data = lammps.read_lammps_data(in_file,\n",
    "                               units=\"real\",\n",
    "                               style=\"charge\")\n",
    "print(\"Unit \", data.cell)\n",
    "# Making supercell\n",
    "data = data*(10, 10, 1)\n",
    "print(\"Super\", data.cell)\n",
    "\n",
    "# Sort atoms based on the z-cordinates\n",
    "sorted_data = build.sort(data, tags=-data.positions[:, 2])\n",
    "numel = sorted_data.positions.shape[0]\n",
    "# print(sorted_data.positions)\n",
    "# Shift the top layer by some amount and write\n",
    "shift_matrix = np.array([np.cos(np.pi/3), np.sin(np.pi/3), 0])*1.74\n",
    "shift_factor = 1.0\n",
    "sorted_data.positions[0:numel//3, :] += shift_matrix*shift_factor\n",
    "lammps.write_lammps_data(f\"./data/1T-MoS2-shift-out_{shift_factor}.lmp\",\n",
    "                         sorted_data,\n",
    "                         atom_style=\"charge\")"
   ]
  },
  {
   "cell_type": "code",
   "execution_count": null,
   "id": "b7aa5581-32d1-4229-9577-a9474b9b28e3",
   "metadata": {},
   "outputs": [],
   "source": []
  }
 ],
 "metadata": {
  "kernelspec": {
   "display_name": "Python 3",
   "language": "python",
   "name": "python3"
  },
  "language_info": {
   "codemirror_mode": {
    "name": "ipython",
    "version": 3
   },
   "file_extension": ".py",
   "mimetype": "text/x-python",
   "name": "python",
   "nbconvert_exporter": "python",
   "pygments_lexer": "ipython3",
   "version": "3.9.9"
  }
 },
 "nbformat": 4,
 "nbformat_minor": 5
}
