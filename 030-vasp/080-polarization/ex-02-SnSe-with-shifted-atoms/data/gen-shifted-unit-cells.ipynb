{
 "cells": [
  {
   "cell_type": "code",
   "execution_count": 7,
   "metadata": {},
   "outputs": [],
   "source": [
    "from ase.io import vasp\n",
    "from ase import Atoms\n",
    "import numpy as np\n",
    "import os \n",
    "\n",
    "outDIR = \"./poscars\"\n",
    "os.makedirs(outDIR,exist_ok=True)\n",
    "# Reading POSCAR\n",
    "data:Atoms = vasp.read_vasp(\"./POSCAR\")\n",
    "\n",
    "unit_cell = data.get_cell()\n",
    "atomic_nums = data.get_atomic_numbers()\n",
    "atomic_poss = data.get_scaled_positions()\n",
    "\n",
    "for i in np.arange(0,.1,0.01):\n",
    "    new_unit_cell:Atoms = data.copy()\n",
    "    new_atomic_pos=atomic_poss.copy()\n",
    "    new_atomic_pos[:,1]+=i\n",
    "    new_unit_cell.set_scaled_positions(new_atomic_pos)\n",
    "    vasp.write_vasp(f\"{outDIR}/POSCAR-{i:1.2f}\",atoms=new_unit_cell,label=f\"SnSe-{i:1.2f}\",direct=True)\n",
    "# data.set_scaled_positions\n",
    "# print(unit_cell)\n",
    "# print(atomic_nums)\n",
    "# print(atomic_poss)"
   ]
  },
  {
   "cell_type": "code",
   "execution_count": null,
   "metadata": {},
   "outputs": [],
   "source": [
    "vasp.read"
   ]
  }
 ],
 "metadata": {
  "kernelspec": {
   "display_name": "basic",
   "language": "python",
   "name": "python3"
  },
  "language_info": {
   "codemirror_mode": {
    "name": "ipython",
    "version": 3
   },
   "file_extension": ".py",
   "mimetype": "text/x-python",
   "name": "python",
   "nbconvert_exporter": "python",
   "pygments_lexer": "ipython3",
   "version": "3.10.6"
  },
  "orig_nbformat": 4,
  "vscode": {
   "interpreter": {
    "hash": "e6056de7fbf7c6cef123de395e713ecef51a087e7afbf82d9445eab5f6ecfc85"
   }
  }
 },
 "nbformat": 4,
 "nbformat_minor": 2
}
