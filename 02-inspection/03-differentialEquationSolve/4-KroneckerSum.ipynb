{
 "cells": [
  {
   "cell_type": "markdown",
   "id": "76ecbec8",
   "metadata": {},
   "source": [
    "$$A \\oplus B = A\\otimes I_B + I_A \\otimes B$$"
   ]
  },
  {
   "cell_type": "code",
   "execution_count": 1,
   "id": "06c64eb0",
   "metadata": {},
   "outputs": [],
   "source": [
    "import numpy as np\n",
    "from ase.io import vasp\n",
    "from tabulate import tabulate"
   ]
  },
  {
   "cell_type": "code",
   "execution_count": 2,
   "id": "c790694b",
   "metadata": {},
   "outputs": [
    {
     "data": {
      "text/plain": [
       "(array([[1100., 1200., 1300., 1400.],\n",
       "        [2100., 2200., 2300., 2400.],\n",
       "        [3100., 3200., 3300., 3400.],\n",
       "        [4100., 4200., 4300., 4400.]]),\n",
       " array([[11., 12., 13.],\n",
       "        [21., 22., 23.],\n",
       "        [31., 32., 33.]]))"
      ]
     },
     "execution_count": 2,
     "metadata": {},
     "output_type": "execute_result"
    }
   ],
   "source": [
    "Dx = np.zeros((4,4))\n",
    "Dy = np.zeros((3,3))\n",
    "for i in range(1,Dx.shape[0]+1):\n",
    "    Dx[i-1] = 100*(np.arange(1,Dx.shape[1]+1)+i*10)\n",
    "for i in range(1,Dy.shape[0]+1):\n",
    "    Dy[i-1] = (np.arange(1,Dy.shape[1]+1)+i*10)\n",
    "Dx,Dy"
   ]
  },
  {
   "cell_type": "code",
   "execution_count": 3,
   "id": "d82720ab",
   "metadata": {},
   "outputs": [
    {
     "name": "stdout",
     "output_type": "stream",
     "text": [
      "----  ----  ----  ----  ----  ----  ----  ----  ----  ----  ----  ----\n",
      "1100     0     0  1200     0     0  1300     0     0  1400     0     0\n",
      "   0  1100     0     0  1200     0     0  1300     0     0  1400     0\n",
      "   0     0  1100     0     0  1200     0     0  1300     0     0  1400\n",
      "2100     0     0  2200     0     0  2300     0     0  2400     0     0\n",
      "   0  2100     0     0  2200     0     0  2300     0     0  2400     0\n",
      "   0     0  2100     0     0  2200     0     0  2300     0     0  2400\n",
      "3100     0     0  3200     0     0  3300     0     0  3400     0     0\n",
      "   0  3100     0     0  3200     0     0  3300     0     0  3400     0\n",
      "   0     0  3100     0     0  3200     0     0  3300     0     0  3400\n",
      "4100     0     0  4200     0     0  4300     0     0  4400     0     0\n",
      "   0  4100     0     0  4200     0     0  4300     0     0  4400     0\n",
      "   0     0  4100     0     0  4200     0     0  4300     0     0  4400\n",
      "----  ----  ----  ----  ----  ----  ----  ----  ----  ----  ----  ----\n"
     ]
    }
   ],
   "source": [
    "print(tabulate(np.kron(Dx,np.identity(Dy.shape[0]))))"
   ]
  },
  {
   "cell_type": "code",
   "execution_count": 4,
   "id": "e5b88cb6",
   "metadata": {},
   "outputs": [
    {
     "name": "stdout",
     "output_type": "stream",
     "text": [
      "--  --  --  --  --  --  --  --  --  --  --  --\n",
      "11  12  13   0   0   0   0   0   0   0   0   0\n",
      "21  22  23   0   0   0   0   0   0   0   0   0\n",
      "31  32  33   0   0   0   0   0   0   0   0   0\n",
      " 0   0   0  11  12  13   0   0   0   0   0   0\n",
      " 0   0   0  21  22  23   0   0   0   0   0   0\n",
      " 0   0   0  31  32  33   0   0   0   0   0   0\n",
      " 0   0   0   0   0   0  11  12  13   0   0   0\n",
      " 0   0   0   0   0   0  21  22  23   0   0   0\n",
      " 0   0   0   0   0   0  31  32  33   0   0   0\n",
      " 0   0   0   0   0   0   0   0   0  11  12  13\n",
      " 0   0   0   0   0   0   0   0   0  21  22  23\n",
      " 0   0   0   0   0   0   0   0   0  31  32  33\n",
      "--  --  --  --  --  --  --  --  --  --  --  --\n"
     ]
    }
   ],
   "source": [
    "print(tabulate(np.kron(np.identity(Dx.shape[0]),Dy)))"
   ]
  },
  {
   "cell_type": "code",
   "execution_count": 5,
   "id": "7484c3c6",
   "metadata": {},
   "outputs": [
    {
     "name": "stdout",
     "output_type": "stream",
     "text": [
      "----  ----  ----  ----  ----  ----  ----  ----  ----  ----  ----  ----\n",
      "1111    12    13  1200     0     0  1300     0     0  1400     0     0\n",
      "  21  1122    23     0  1200     0     0  1300     0     0  1400     0\n",
      "  31    32  1133     0     0  1200     0     0  1300     0     0  1400\n",
      "2100     0     0  2211    12    13  2300     0     0  2400     0     0\n",
      "   0  2100     0    21  2222    23     0  2300     0     0  2400     0\n",
      "   0     0  2100    31    32  2233     0     0  2300     0     0  2400\n",
      "3100     0     0  3200     0     0  3311    12    13  3400     0     0\n",
      "   0  3100     0     0  3200     0    21  3322    23     0  3400     0\n",
      "   0     0  3100     0     0  3200    31    32  3333     0     0  3400\n",
      "4100     0     0  4200     0     0  4300     0     0  4411    12    13\n",
      "   0  4100     0     0  4200     0     0  4300     0    21  4422    23\n",
      "   0     0  4100     0     0  4200     0     0  4300    31    32  4433\n",
      "----  ----  ----  ----  ----  ----  ----  ----  ----  ----  ----  ----\n"
     ]
    }
   ],
   "source": [
    "kronSum = np.kron(Dx,np.identity(Dy.shape[0]))+np.kron(np.identity(Dx.shape[0]),Dy)\n",
    "print(tabulate(kronSum))"
   ]
  }
 ],
 "metadata": {
  "kernelspec": {
   "display_name": "basic",
   "language": "python",
   "name": "python3"
  },
  "language_info": {
   "codemirror_mode": {
    "name": "ipython",
    "version": 3
   },
   "file_extension": ".py",
   "mimetype": "text/x-python",
   "name": "python",
   "nbconvert_exporter": "python",
   "pygments_lexer": "ipython3",
   "version": "3.11.0"
  }
 },
 "nbformat": 4,
 "nbformat_minor": 5
}
