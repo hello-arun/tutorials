{
 "cells": [
  {
   "cell_type": "code",
   "execution_count": null,
   "metadata": {},
   "outputs": [],
   "source": [
    "from ase.io import vasp\n",
    "from ase import Atoms\n",
    "import numpy as np \n",
    "import pandas as pd\n",
    "from tabulate import tabulate"
   ]
  },
  {
   "cell_type": "code",
   "execution_count": null,
   "metadata": {},
   "outputs": [],
   "source": [
    "def getZVals(outcar):\n",
    "    atoms=None\n",
    "    zvals=None\n",
    "    with open(outcar,'r') as fd:\n",
    "        for line in fd:\n",
    "            if (atoms is None) and (\" POSCAR =\" in line) :\n",
    "                atoms = line.rstrip().split()[2:]\n",
    "            if (zvals is None) and (\"   ZVAL   =\" in line):\n",
    "                zvals = list(map(float,line.rstrip().split()[2:]))\n",
    "            if zvals and atoms:\n",
    "                return dict(zip(atoms,zvals))\n",
    "    raise Exception(\"ZVALS not found\")"
   ]
  },
  {
   "cell_type": "code",
   "execution_count": null,
   "metadata": {},
   "outputs": [],
   "source": [
    "atoms:Atoms = vasp.read_vasp(\"./POSCAR\")\n",
    "symbols = atoms.get_chemical_symbols()\n",
    "baderData = pd.read_csv(\"./ACF.dat\",skiprows=[1],delimiter=\" \",skipinitialspace=True,nrows=len(atoms))\n",
    "\n",
    "zVals=getZVals(\"./OUTCAR\")\n",
    "valanceCharge = np.array([zVals[symbol] for symbol in symbols])\n",
    "baderCharge = baderData[\"CHARGE\"].values\n",
    "\n",
    "finalCharge = baderCharge-valanceCharge\n",
    "print(\"Positive value : Charge Gain\")\n",
    "print(\"Negative value : Charge Loss\\n\")\n",
    "DF = pd.DataFrame({\n",
    "    'symbols':symbols,\n",
    "    'ZVAL':valanceCharge,\n",
    "    'Bader':baderCharge,\n",
    "    'Final Charge':finalCharge\n",
    "})\n",
    "print(tabulate(DF,headers='keys',tablefmt='fancy_grid',floatfmt=\"0.2f\"))"
   ]
  }
 ],
 "metadata": {
  "kernelspec": {
   "display_name": "basic",
   "language": "python",
   "name": "python3"
  },
  "language_info": {
   "codemirror_mode": {
    "name": "ipython",
    "version": 3
   },
   "file_extension": ".py",
   "mimetype": "text/x-python",
   "name": "python",
   "nbconvert_exporter": "python",
   "pygments_lexer": "ipython3",
   "version": "3.11.5"
  }
 },
 "nbformat": 4,
 "nbformat_minor": 2
}
