{
 "cells": [
  {
   "cell_type": "code",
   "execution_count": 22,
   "metadata": {},
   "outputs": [],
   "source": [
    "from ase.io import vasp\n",
    "import numpy as np \n",
    "import pandas as pd"
   ]
  },
  {
   "cell_type": "code",
   "execution_count": 25,
   "metadata": {},
   "outputs": [
    {
     "name": "stdout",
     "output_type": "stream",
     "text": [
      " POTCAR:    PAW_PBE Ti 08Apr2002                  \n",
      " POTCAR:    PAW_PBE C 08Apr2002                   \n",
      " POTCAR:    PAW_PBE O 08Apr2002                   \n",
      " POTCAR:    PAW_PBE W 08Apr2002                   \n",
      " POTCAR:    PAW_PBE S 06Sep2000                   \n",
      " POTCAR:    PAW_PBE Ti 08Apr2002                  \n",
      " POTCAR:    PAW_PBE C 08Apr2002                   \n",
      " POTCAR:    PAW_PBE O 08Apr2002                   \n",
      " POTCAR:    PAW_PBE W 08Apr2002                   \n",
      " POTCAR:    PAW_PBE S 06Sep2000                   \n"
     ]
    }
   ],
   "source": [
    "! grep \"POTCAR:    PAW_PBE\" OUTCAR"
   ]
  },
  {
   "cell_type": "code",
   "execution_count": 36,
   "metadata": {},
   "outputs": [
    {
     "name": "stdout",
     "output_type": "stream",
     "text": [
      "   POMASS =   47.880; ZVAL   =    4.000    mass and valenz                      \n",
      "   POMASS =   12.011; ZVAL   =    4.000    mass and valenz                      \n",
      "   POMASS =   16.000; ZVAL   =    6.000    mass and valenz                      \n",
      "   POMASS =  183.850; ZVAL   =    6.000    mass and valenz                      \n",
      "   POMASS =   32.066; ZVAL   =    6.000    mass and valenz                      \n"
     ]
    }
   ],
   "source": [
    "! grep \"; ZVAL   =\" OUTCAR\n",
    "# ! grep \"; ZVAL   =\" OUTCAR | awk '{print $6}'"
   ]
  },
  {
   "cell_type": "code",
   "execution_count": 39,
   "metadata": {},
   "outputs": [],
   "source": [
    "ZVALs={\n",
    "    \"Ti\":4,\n",
    "    \"C\":4,\n",
    "    \"O\":6,\n",
    "    \"W\":6,\n",
    "    \"S\":6\n",
    "}\n",
    "atoms = vasp.read_vasp(\"./POSCAR\")\n",
    "data = pd.read_csv(\"./ACF.dat\",skiprows=[1],delimiter=\" \",skipinitialspace=True,nrows=len(atoms))"
   ]
  },
  {
   "cell_type": "code",
   "execution_count": 51,
   "metadata": {},
   "outputs": [
    {
     "name": "stdout",
     "output_type": "stream",
     "text": [
      "Positive value : Charge Gain\n",
      "Negative value : Charge Loss\n",
      "\n",
      "Charge on Ti is -1.507\n",
      "Charge on Ti is -1.716\n",
      "Charge on Ti is -1.715\n",
      "Charge on C  is  1.490\n",
      "Charge on C  is  1.493\n",
      "Charge on O  is  0.996\n",
      "Charge on O  is  0.981\n",
      "Charge on W  is -1.165\n",
      "Charge on S  is  0.567\n",
      "Charge on S  is  0.575\n"
     ]
    }
   ],
   "source": [
    "symbols = atoms.get_chemical_symbols()\n",
    "print(\"Positive value : Charge Gain\")\n",
    "print(\"Negative value : Charge Loss\\n\")\n",
    "for i,symbol in enumerate(symbols):\n",
    "    zval=ZVALs[symbol]\n",
    "    baderCharge=data[\"CHARGE\"][i]\n",
    "    print(f\"Charge on {symbol:<2} is {baderCharge-zval:>6.3f}\")\n",
    "# np.sum(data[\"CHARGE\"])"
   ]
  }
 ],
 "metadata": {
  "kernelspec": {
   "display_name": "basic",
   "language": "python",
   "name": "python3"
  },
  "language_info": {
   "codemirror_mode": {
    "name": "ipython",
    "version": 3
   },
   "file_extension": ".py",
   "mimetype": "text/x-python",
   "name": "python",
   "nbconvert_exporter": "python",
   "pygments_lexer": "ipython3",
   "version": "3.11.6"
  }
 },
 "nbformat": 4,
 "nbformat_minor": 2
}
