{
 "cells": [
  {
   "cell_type": "code",
   "execution_count": 1,
   "metadata": {},
   "outputs": [],
   "source": [
    "from sumo.cli.bandplot import bandplot\n",
    "import numpy as np\n",
    "import matplotlib.pyplot as plt\n",
    "from matplotlib.ticker import MultipleLocator"
   ]
  },
  {
   "cell_type": "code",
   "execution_count": 2,
   "metadata": {},
   "outputs": [],
   "source": [
    "resultDIR=\"./_result\"\n",
    "vasprunBANDS=\"./07-bands/calc/mp-grid-15x15x1-slab-middle/vasprun.xml\"\n",
    "vasprunDOS=\"./06-dos/calc/gm-grid-15x15x1-slab-middle-ISMEAR_-5/vasprun.xml\""
   ]
  },
  {
   "cell_type": "code",
   "execution_count": 3,
   "metadata": {},
   "outputs": [],
   "source": [
    "subplots = [1, 1]\n",
    "mm = 1 / 25.4\n",
    "p = bandplot(filenames=[vasprunBANDS],plt=plt,style=\"./matlotlib.rc\")\n",
    "fig,ax=p.gcf(),p.gca()\n",
    "fig.set_size_inches(75 * mm, 60 * mm)\n",
    "ax.set_aspect(\"auto\")\n",
    "ax.set_ylim([-2,2])\n",
    "ax.yaxis.set_major_locator(MultipleLocator(1))\n",
    "ax.yaxis.set_minor_locator(MultipleLocator(0.5))\n",
    "fig.tight_layout(pad=0)\n",
    "fig.savefig(f\"{resultDIR}/bands.svg\")"
   ]
  }
 ],
 "metadata": {
  "kernelspec": {
   "display_name": "basic",
   "language": "python",
   "name": "python3"
  },
  "language_info": {
   "codemirror_mode": {
    "name": "ipython",
    "version": 3
   },
   "file_extension": ".py",
   "mimetype": "text/x-python",
   "name": "python",
   "nbconvert_exporter": "python",
   "pygments_lexer": "ipython3",
   "version": "3.10.6"
  },
  "orig_nbformat": 4
 },
 "nbformat": 4,
 "nbformat_minor": 2
}
