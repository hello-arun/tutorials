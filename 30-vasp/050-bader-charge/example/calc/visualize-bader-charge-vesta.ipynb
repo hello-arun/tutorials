{
 "cells": [
  {
   "cell_type": "code",
   "execution_count": 6,
   "metadata": {},
   "outputs": [
    {
     "name": "stdout",
     "output_type": "stream",
     "text": [
      "[4.9382 6.5324 6.5295]\n",
      "0 1 0\n",
      "1 3 0\n",
      "[-1.0618  0.5324  0.5295]\n",
      "Atoms(symbols='MoS2', pbc=True, cell=[[3.182944791254379, 0.0, 0.0], [-1.591471661527133, 2.756511469929043, 0.0], [0.0, 0.0, 20.0]])\n"
     ]
    }
   ],
   "source": [
    "import os\n",
    "from ase.io import vasp\n",
    "import numpy as np\n",
    "from ase import Atoms\n",
    "zvals = [6,6]  # Z-val of ions in order as in POSCAR\n",
    "data_bader   = np.loadtxt(fname=\"BCF.dat\",skiprows=2, comments=\"---\", usecols=[4,5])\n",
    "sort_indices = np.argsort(data_bader[:, 1])  # Get the indices that would sort the 2nd column\n",
    "charge_bader   = data_bader[sort_indices][:,0]      # Sort the entire array using advanced indexing\n",
    "print (charge_bader)\n",
    "\n",
    "cord_line=\"{no} {symbol} {name} 1.000 {x} {y} {z} 1a 1\\n\"\n",
    "atom_nums = np.loadtxt(\"./POSCAR\", skiprows=6, max_rows=1,dtype=\"int\")\n",
    "start=0\n",
    "for i in range(len(atom_nums)):\n",
    "    print(start,start+atom_nums[i],0)\n",
    "    charge_bader[start:start+atom_nums[i]] = charge_bader[start:start+atom_nums[i]] - zvals[i]\n",
    "    start += atom_nums[i]\n",
    "print (charge_bader)\n",
    "\n",
    "vesta_format=\"\"\"#VESTA_FORMAT_VERSION 3.5.4\n",
    "\n",
    "CRYSTAL\n",
    "\n",
    "TITLE\n",
    "This is Title Line\n",
    "CELLP\n",
    "__cell\n",
    "  0.000000   0.000000   0.000000   0.000000   0.000000   0.000000\n",
    "STRUC\n",
    "__cords\n",
    "0 0 0 0 0 0 0\n",
    "\"\"\"\n",
    "\n",
    "with open(\"bader.vesta\",\"w\") as file:\n",
    "    file.write(vesta_format)\n",
    "\n",
    "data_vasp:Atoms=vasp.read_vasp(file=\"POSCAR\")\n",
    "# data = vasp.read_poscar(\"./POSCAR\")\n",
    "print(data_vasp)\n"
   ]
  },
  {
   "cell_type": "code",
   "execution_count": null,
   "metadata": {},
   "outputs": [],
   "source": []
  },
  {
   "cell_type": "code",
   "execution_count": 3,
   "metadata": {},
   "outputs": [
    {
     "data": {
      "text/plain": [
       "Cell([[3.182944791254379, 0.0, 0.0], [-1.591471661527133, 2.756511469929043, 0.0], [0.0, 0.0, 20.0]])"
      ]
     },
     "execution_count": 3,
     "metadata": {},
     "output_type": "execute_result"
    }
   ],
   "source": [
    "print(data)"
   ]
  }
 ],
 "metadata": {
  "kernelspec": {
   "display_name": "basic",
   "language": "python",
   "name": "python3"
  },
  "language_info": {
   "codemirror_mode": {
    "name": "ipython",
    "version": 3
   },
   "file_extension": ".py",
   "mimetype": "text/x-python",
   "name": "python",
   "nbconvert_exporter": "python",
   "pygments_lexer": "ipython3",
   "version": "3.10.4"
  },
  "orig_nbformat": 4
 },
 "nbformat": 4,
 "nbformat_minor": 2
}
