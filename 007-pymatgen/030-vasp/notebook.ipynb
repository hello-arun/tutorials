{
 "cells": [
  {
   "cell_type": "code",
   "execution_count": 7,
   "metadata": {},
   "outputs": [
    {
     "name": "stdout",
     "output_type": "stream",
     "text": [
      "[0.19374777 0.25       0.56874317]\n",
      "[0.19374777 0.58333331 0.56874317]\n",
      "[0.19374777 0.91666669 0.56874317]\n",
      "[0.52708113 0.25       0.56874317]\n",
      "[0.52708113 0.58333331 0.56874317]\n",
      "[0.52708113 0.91666669 0.56874317]\n",
      "[0.86041445 0.25       0.56874317]\n",
      "[0.86041445 0.58333331 0.56874317]\n",
      "[0.86041445 0.91666669 0.56874317]\n",
      "[0.02708112 0.08333334 0.43125686]\n",
      "[0.02708112 0.41666666 0.43125686]\n",
      "[0.02708112 0.75       0.43125686]\n",
      "[0.36041445 0.08333334 0.43125686]\n",
      "[0.36041445 0.41666666 0.43125686]\n",
      "[0.36041445 0.75       0.43125686]\n",
      "[0.69374776 0.08333334 0.43125686]\n",
      "[0.69374776 0.41666666 0.43125686]\n",
      "[0.69374776 0.75       0.43125686]\n",
      "[0.01095355 0.08333334 0.56707388]\n",
      "[0.01095355 0.41666666 0.56707388]\n",
      "[0.01095355 0.75       0.56707388]\n",
      "[0.34428689 0.08333334 0.56707388]\n",
      "[0.34428689 0.41666666 0.56707388]\n",
      "[0.34428689 0.75       0.56707388]\n",
      "[0.67762023 0.08333334 0.56707388]\n",
      "[0.67762023 0.41666666 0.56707388]\n",
      "[0.67762023 0.75       0.56707388]\n",
      "[0.17762022 0.25       0.43292615]\n",
      "[0.17762022 0.58333331 0.43292615]\n",
      "[0.17762022 0.91666669 0.43292615]\n",
      "[0.51095355 0.25       0.43292615]\n",
      "[0.51095355 0.58333331 0.43292615]\n",
      "[0.51095355 0.91666669 0.43292615]\n",
      "[0.84428686 0.25       0.43292615]\n",
      "[0.84428686 0.58333331 0.43292615]\n",
      "[0.84428686 0.91666669 0.43292615]\n"
     ]
    }
   ],
   "source": [
    "#read structure from file\n",
    "from pymatgen.io.vasp import Poscar\n",
    "from pymatgen.core import Structure\n",
    "from pymatgen.symmetry.analyzer import SpacegroupAnalyzer\n",
    "\n",
    "struct = Structure.from_file(\"POSCAR\")\n",
    "for site in struct:\n",
    "    print(site.frac_coords)\n",
    "    # site.frac_coords+=[0,0,0.5]\n",
    "\n",
    "# for site in struct:\n",
    "    # print(site.frac_coords)\n",
    "    # site.frac_coords+=[0,0,0.5]\n",
    "# lattice=struct.lattice\n",
    "# lattice.PBC=[True,True,True]\n",
    "# struct = Structure(lattice, struct.species, lattice.get_fractional_coords(struct.cart_coords))\n",
    "\n",
    "# #get symmetrized primitive and conventional cell\n",
    "sga = SpacegroupAnalyzer(struct,symprec=1e-4)\n",
    "# struct_symm_conv = sga.get_conventional_standard_structure()\n",
    "# struct_symm_prim = sga.find_primitive()\n",
    "# new_poscar = Poscar(struct_symm_conv)\n",
    "# new_poscar.write_file(\"new_POSCAR\")\n",
    "# #write primitive and conventional cells\n",
    "# poscar = Poscar(struct_symm_conv)\n",
    "# poscar.write_file(filename=\"POSCAR-conv\",significant_figures=4)\n",
    "# poscar = Poscar(struct_symm_prim)\n",
    "# poscar.write_file(filename=\"POSCAR-prim\",significant_figures=4)"
   ]
  },
  {
   "cell_type": "code",
   "execution_count": 8,
   "metadata": {},
   "outputs": [
    {
     "name": "stdout",
     "output_type": "stream",
     "text": [
      "orthorhombic\n"
     ]
    }
   ],
   "source": [
    "print(sga.get_crystal_system())\n"
   ]
  },
  {
   "cell_type": "markdown",
   "metadata": {},
   "source": []
  },
  {
   "cell_type": "markdown",
   "metadata": {},
   "source": []
  }
 ],
 "metadata": {
  "kernelspec": {
   "display_name": "basic",
   "language": "python",
   "name": "python3"
  },
  "language_info": {
   "codemirror_mode": {
    "name": "ipython",
    "version": 3
   },
   "file_extension": ".py",
   "mimetype": "text/x-python",
   "name": "python",
   "nbconvert_exporter": "python",
   "pygments_lexer": "ipython3",
   "version": "3.10.6"
  },
  "orig_nbformat": 4,
  "vscode": {
   "interpreter": {
    "hash": "e6056de7fbf7c6cef123de395e713ecef51a087e7afbf82d9445eab5f6ecfc85"
   }
  }
 },
 "nbformat": 4,
 "nbformat_minor": 2
}
