{
 "cells": [
  {
   "cell_type": "code",
   "execution_count": 31,
   "id": "68bf06ce-8d9b-446c-86b7-b8b3c799d1ef",
   "metadata": {},
   "outputs": [
    {
     "name": "stdout",
     "output_type": "stream",
     "text": [
      "2H-MoS2                                 \n",
      "1.0\n",
      "        3.1829457283         0.0000000000         0.0000000000\n",
      "        0.0000000000         5.5130214691         0.0000000000\n",
      "        0.0000000000         0.0000000000        20.0000000000\n",
      "   Mo    S\n",
      "    2    4\n",
      "Direct\n",
      "     0.500000000         0.166666999         0.499987543\n",
      "     0.000000000         0.666666985         0.499987543\n",
      "     0.500000000         0.833333015         0.578166723\n",
      "     0.000000000         0.333333015         0.578166723\n",
      "     0.500000000         0.833333015         0.421808362\n",
      "     0.000000000         0.333333015         0.421808362\n"
     ]
    }
   ],
   "source": [
    "!cat ./data/POSCAR"
   ]
  },
  {
   "cell_type": "markdown",
   "id": "101d9fbf",
   "metadata": {},
   "source": [
    "## Reading POSCAR"
   ]
  },
  {
   "cell_type": "code",
   "execution_count": 32,
   "id": "87e373f5-8734-4df2-a3ff-1ae4217616e5",
   "metadata": {},
   "outputs": [
    {
     "name": "stdout",
     "output_type": "stream",
     "text": [
      "Cell([3.1829457283, 5.5130214691, 20.0])\n",
      "[42 42 16 16 16 16]\n",
      "[[0.5        0.166667   0.49998754]\n",
      " [0.         0.66666698 0.49998754]\n",
      " [0.5        0.83333302 0.57816672]\n",
      " [0.         0.33333302 0.57816672]\n",
      " [0.5        0.83333302 0.42180836]\n",
      " [0.         0.33333302 0.42180836]]\n"
     ]
    }
   ],
   "source": [
    "from ase.io import vasp\n",
    "from ase import Atoms\n",
    "# Reading POSCAR\n",
    "data:Atoms = vasp.read_vasp(\"./data/POSCAR\")\n",
    "\n",
    "unit_cell = data.get_cell()\n",
    "atomic_nums = data.get_atomic_numbers()\n",
    "atomic_poss = data.get_scaled_positions()\n",
    "\n",
    "print(unit_cell)\n",
    "print(atomic_nums)\n",
    "print(atomic_poss)"
   ]
  },
  {
   "cell_type": "markdown",
   "id": "2b58203c",
   "metadata": {},
   "source": [
    "## Manupulating POSCAR\n",
    "\n",
    "Let's apply some strain on the cell"
   ]
  },
  {
   "cell_type": "code",
   "execution_count": 33,
   "id": "075e2bf4",
   "metadata": {},
   "outputs": [],
   "source": [
    "scaled_unit_cell = unit_cell.copy()\n",
    "scaled_unit_cell[0:2,:]*=1.15\n",
    "data.set_cell(scaled_unit_cell,scale_atoms=True)\n",
    "# data.set_scaled_positions=atomic_poss\n",
    "vasp.write_vasp(\"./data/POSCAR-out\",atoms=data,label=\"2H-MoS2\",direct=True)"
   ]
  }
 ],
 "metadata": {
  "kernelspec": {
   "display_name": "Python 3 (ipykernel)",
   "language": "python",
   "name": "python3"
  },
  "language_info": {
   "codemirror_mode": {
    "name": "ipython",
    "version": 3
   },
   "file_extension": ".py",
   "mimetype": "text/x-python",
   "name": "python",
   "nbconvert_exporter": "python",
   "pygments_lexer": "ipython3",
   "version": "3.9.12"
  }
 },
 "nbformat": 4,
 "nbformat_minor": 5
}
