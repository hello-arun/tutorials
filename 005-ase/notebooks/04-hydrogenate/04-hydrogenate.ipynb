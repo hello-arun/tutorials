{
 "cells": [
  {
   "cell_type": "markdown",
   "id": "6d1bc28d-4e6d-4f8c-9f47-975d06925d7a",
   "metadata": {},
   "source": [
    "## Adding atoms to read file\n",
    "We will hydrogenate the MoS2 monolayer with random percentage in this exercise"
   ]
  },
  {
   "cell_type": "code",
   "execution_count": 1,
   "id": "acd99e94-f9e1-4112-9771-c72127342c45",
   "metadata": {},
   "outputs": [],
   "source": [
    "from ase.io import lammpsdata\n",
    "import ase.build as build\n",
    "import numpy as np\n",
    "lmp_data = lammpsdata.read_lammps_data(\"./data/2H-MoS2-in.lmp\",\n",
    "                                       style=\"charge\",\n",
    "                                       units=\"real\")\n",
    "atomic_positions = lmp_data.get_positions()\n",
    "atomic_numbers = lmp_data.get_atomic_numbers()\n",
    "\n",
    "sorted_lmp_data = build.sort(lmp_data, tags=-atomic_positions[:, 2])\n",
    "lammpsdata.write_lammps_data(\"./data/2H-MoS2-sorted-out.lmp\",\n",
    "                             sorted_lmp_data,\n",
    "                             atom_style=\"charge\")"
   ]
  },
  {
   "cell_type": "code",
   "execution_count": 2,
   "id": "95bfdb72-6320-422a-9dbf-c116f3080bbc",
   "metadata": {},
   "outputs": [
    {
     "data": {
      "text/plain": [
       "(5520,\n",
       " 4416,\n",
       " array([[  1.08293784,   1.64164494,   8.40662106],\n",
       "        [  1.06852429,   4.83062714,   8.41133573],\n",
       "        [  1.06547351,   8.01899   ,   8.42039964],\n",
       "        ...,\n",
       "        [246.66646294,  92.44248085,  11.5760478 ],\n",
       "        [252.17490914,  95.63388543,   8.40959402],\n",
       "        [241.12903734,  79.71525134,  11.57009069]]))"
      ]
     },
     "execution_count": 2,
     "metadata": {},
     "output_type": "execute_result"
    }
   ],
   "source": [
    "H_percent = 80\n",
    "H_S_bl = 1.4  # Hydrogen-Sulfer bond length\n",
    "\n",
    "# We first extract the position of sulpher atoms\n",
    "# Sulfer atoms are type 2 and so the atomic no of sulfer is 2 in\n",
    "# the read file\n",
    "S_positions = atomic_positions[np.where(atomic_numbers == 2)[0]]\n",
    "\n",
    "# We calculate the number of H-atoms to be added based on the H-percentage\n",
    "S_no = S_positions.shape[0]  # Total number of Sulfer atoms\n",
    "H_no = S_no*H_percent//100  # We obtain the integer number\n",
    "\n",
    "S_no, H_no, S_positions"
   ]
  },
  {
   "cell_type": "markdown",
   "id": "9edec1a5-f7c1-446c-b5e8-51f3753de0f6",
   "metadata": {},
   "source": [
    "We have Sulfer in two layers. top(11.5) bottom(8.4)\n",
    "We need to add sulfer above the top layer and below the bottom layer.\n",
    "#### We now have two possibility of random H-addition.\n",
    "1. No of H-atoms on top and bottom layer are also random\n",
    "2. Approx equal no of H-atom on top and bottom layer\n",
    "\n",
    "We start with the second case"
   ]
  },
  {
   "cell_type": "code",
   "execution_count": 3,
   "id": "0cc4f1ae-d7e0-47ee-a706-77436b57eaba",
   "metadata": {},
   "outputs": [
    {
     "data": {
      "text/plain": [
       "((2208,), (2208,))"
      ]
     },
     "execution_count": 3,
     "metadata": {},
     "output_type": "execute_result"
    }
   ],
   "source": [
    "H_no_top = H_no//2\n",
    "H_no_bot = H_no - H_no_top\n",
    "H_no_top, H_no_bot\n",
    "\n",
    "S_positions_top = S_positions[S_positions[:, 2] > 10]\n",
    "S_positions_bot = S_positions[S_positions[:, 2] < 10]\n",
    "\n",
    "np.random.seed(1)  # To reproduce the results\n",
    "top_indicies = np.random.choice(S_positions_top.shape[0],\n",
    "                                H_no_top,\n",
    "                                replace=False)\n",
    "bot_indicies = np.random.choice(S_positions_bot.shape[0],\n",
    "                                H_no_bot,\n",
    "                                replace=False)\n",
    "top_indicies.shape, bot_indicies.shape"
   ]
  },
  {
   "cell_type": "markdown",
   "id": "9b33dd5e-b374-4b8e-acf9-a034819ab804",
   "metadata": {},
   "source": [
    "Now we are ready to add Hydrogen. ASE can not write atomic masses to lammpsdata file. We will add Li instead to H because it have atomic number 3\n",
    "We already have two atom types already in the list"
   ]
  },
  {
   "cell_type": "code",
   "execution_count": 4,
   "id": "872596d6-261c-46ba-941d-5a7f1c4c44f9",
   "metadata": {},
   "outputs": [],
   "source": [
    "for i in top_indicies:\n",
    "    # it is better to add Li as here becuase we know\n",
    "    # H will be the third element except Mo and S\n",
    "    lmp_data.append(\"Li\")\n",
    "    lmp_data.positions[-1] = S_positions_top[i]+np.array([0, 0, H_S_bl])\n",
    "for i in bot_indicies:\n",
    "    lmp_data.append(\"Li\")\n",
    "    lmp_data.positions[-1] = S_positions_bot[i]+np.array([0, 0, -H_S_bl])\n",
    "lmp_data.set_initial_charges(lmp_data.get_initial_charges()*0)"
   ]
  },
  {
   "cell_type": "code",
   "execution_count": 5,
   "id": "385e03bd-e8e9-43ea-bb59-cb45c628a6b4",
   "metadata": {},
   "outputs": [],
   "source": [
    "lammpsdata.write_lammps_data(f\"./data/2H-MoS2-H_{H_percent}-out.lmp\",\n",
    "                             lmp_data,\n",
    "                             atom_style=\"charge\")"
   ]
  }
 ],
 "metadata": {
  "kernelspec": {
   "display_name": "Python 3",
   "language": "python",
   "name": "python3"
  },
  "language_info": {
   "codemirror_mode": {
    "name": "ipython",
    "version": 3
   },
   "file_extension": ".py",
   "mimetype": "text/x-python",
   "name": "python",
   "nbconvert_exporter": "python",
   "pygments_lexer": "ipython3",
   "version": "3.9.9"
  }
 },
 "nbformat": 4,
 "nbformat_minor": 5
}
