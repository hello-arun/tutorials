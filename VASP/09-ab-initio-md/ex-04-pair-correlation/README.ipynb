{
 "cells": [
  {
   "cell_type": "markdown",
   "metadata": {},
   "source": [
    "# ex-03-pair-correlation"
   ]
  },
  {
   "cell_type": "markdown",
   "metadata": {},
   "source": [
    "We plot radial distributuin function from the simulations of [ex-01](./ex-01-Si-melting-090fs/) and [ex-02](./ex-02-Si-melting-180fs/). "
   ]
  },
  {
   "cell_type": "markdown",
   "metadata": {},
   "source": [
    "## Theory"
   ]
  },
  {
   "cell_type": "markdown",
   "metadata": {},
   "source": [
    "The structure of a liquid can be studied using the [radial distribution function](https://en.wikipedia.org/wiki/Radial_distribution_function), also known as pair-correlation function. Roughly speaking, it is the probability of finding a particle at a given distance from the center of another particle. More precisely, it is the relative local particle density with respect to the average density of the system at a distance $r$ from the center of an arbitrarily chosen reference particle. Formally, this can be written as\n",
    "$$\\tag{2.1}\n",
    "g(r) = \\frac{\\Omega_r}{N^2} \\left\\langle \\sum_i \\sum_{j\\neq i} \\delta( \\vec{r} - \\vec{R}_{ij} ) \\right\\rangle,\n",
    "$$\n",
    "where $\\Omega_r$ is the real space volume, $N$ is the number of particles, $\\vec{R}_{ij}= \\vec{R}_i - \\vec{R}_{j}$, and $\\langle \\cdot \\rangle$ takes the ensemble average:\n",
    "$$\\tag{2.2}\n",
    "\\mathcal{A}_{\\mathrm{obs}} = \\left\\langle \\mathcal{A}\\left(p(t), q(t)\\right)\\right\\rangle_{\\mathrm{time}} = \\lim_{t_{\\mathrm{obs}} \\to \\infty} \\frac{1}{t_{\\mathrm{obs}}} \\int_0^{t_{\\mathrm{obs}}} \\, \\mathcal{A}\\left(p(t), q(t)\\right) \\, \\mathrm{d}t.\n",
    "$$ \n",
    "Here, $\\mathcal{A}_{\\mathrm{obs}}$ is the observable, macroscopic property, which is written as a time average over $\\mathcal{A}\\left(p(t), q(t)\\right)$ with $p(t)$ and $q(t)$ being the canonical momenta and positions that define the point in [phase space](https://en.wikipedia.org/wiki/Phase_space) that changes over time $t$. \n",
    "\n",
    "Recall that, in a crystal, we observe long-range order, which leads to distinct peaks in the [pair-correlation function](https://en.wikipedia.org/wiki/Radial_distribution_function). In a [liquid state](https://en.wikipedia.org/wiki/Liquid), particles are bound firmly, unlike in gases, but not rigidly, in contrast to solids. The characteristic features of the [pair-correlation function](https://en.wikipedia.org/wiki/Radial_distribution_function) change significantly, when a system melts. \n",
    "\n",
    "What's more, you can use the [pair-correlation function](https://en.wikipedia.org/wiki/Radial_distribution_function) to compute the ensemble average of any pair function $\\mathcal{B}$ with\n",
    "$$\\tag{2.3}\n",
    "\\mathcal{B}_{\\mathrm{obs}} = \\left\\langle \\sum_i \\sum_{j>i} b(\\vec{R}_{ij}) \\right\\rangle = \\frac{1}{2}N\\rho  \\int_0^\\infty b(r)g(r) 4\\pi r^2 \\mathrm{d}r.\n",
    "$$\n",
    "This is true for an isotropic liquid, where $\\rho$ is the particle density. Read more in Chapter 2.6 of [Computer Simulation of Liquids by M. P. Allen and D. J. Tildesley](https://oxford.universitypressscholarship.com/view/10.1093/oso/9780198803195.001.0001/oso-9780198803195)."
   ]
  },
  {
   "cell_type": "markdown",
   "metadata": {},
   "source": [
    "## Calculation"
   ]
  },
  {
   "cell_type": "markdown",
   "metadata": {},
   "source": [
    "The [pair-correlation function](https://en.wikipedia.org/wiki/Radial_distribution_function) is written to the [PCDAT](https://www.vasp.at/wiki/index.php/PCDAT) file. It can be visualized using **pair_correlation.sh**. \n",
    "\n",
    "In [ex-01-Si-melting](../ex-01-Si-melting-090fs/), you already simulated 90fs, so copy that [PCDAT](https://www.vasp.at/wiki/index.php/PCDAT) file to **PCDAT.090fs**! In [ex-02-Si-melting](../ex-02-Si-melting-180fs/) we restarted from the final structure of [ex-01](../ex-01-Si-melting-090fs/). Therefore, that [PCDAT](https://www.vasp.at/wiki/index.php/PCDAT) file corresponds to melting silicon after a total time of 180fs, but taking the ensemble average only over the simulation time of 90fs set by [NSW](https://www.vasp.at/wiki/index.php/NSW) and [POTIM](https://www.vasp.at/wiki/index.php/POTIM). Copy the [PCDAT](https://www.vasp.at/wiki/index.php/PCDAT) file to **PCDAT.180fs**! Then, plot the result and compare the pair-correlation functions!\n",
    "\n",
    "Enter the following into the terminal:\n",
    "\n",
    "```bash\n",
    "bash grep-PCDAT.sh\n",
    "bash pair-correlation.sh .090fs\n",
    "bash pair-correlation.sh .180fs\n",
    "bash pair-correlation.sh .195fs\n",
    "gnuplot pair-correlation.gp\n",
    "```"
   ]
  },
  {
   "cell_type": "markdown",
   "metadata": {},
   "source": [
    "## Results"
   ]
  },
  {
   "cell_type": "markdown",
   "metadata": {},
   "source": [
    "![pair correlation](./pair-correlation-090-180.png)\n",
    "\n",
    "Why does the [pair-correlation function](https://en.wikipedia.org/wiki/Radial_distribution_function) at 90fs feature distinct peaks even beyond 4Å? \n",
    "\n",
    "<details>\n",
    "<summary> Click to see the answer! </summary>\n",
    "\n",
    "In the first 90 fs, the system is still close to its crystal structure. As a crystal has long-range order distinct peaks appear in the [pair-correlation function](https://en.wikipedia.org/wiki/Radial_distribution_function).\n",
    "\n",
    "Also note that it makes no sense to display $g(r)$ for $r$ longer than half the shortest dimension of the supercell. That is, here $r$ should be kept below 5.4 Å.\n",
    "    \n",
    "</details>\n",
    "\n",
    "\n",
    "What is the interpretation of the [pair-correlation function](https://en.wikipedia.org/wiki/Radial_distribution_function) at large distances? What is the interpretation at short distances? What is the characteristic shape of the [pair-correlation function](https://en.wikipedia.org/wiki/Radial_distribution_function) for liquids?"
   ]
  },
  {
   "cell_type": "markdown",
   "metadata": {},
   "source": [
    "![pair correlation](./pair-correlation-090-180-195.png)"
   ]
  },
  {
   "cell_type": "markdown",
   "metadata": {},
   "source": [
    "Does the new [PCDAT](https://www.vasp.at/wiki/index.php/PCDAT) correspond to sampling for 195fs or 15fs? How does this impact the quality of the [pair-correlation function](https://en.wikipedia.org/wiki/Radial_distribution_function)?**"
   ]
  },
  {
   "cell_type": "markdown",
   "metadata": {},
   "source": [
    "<details>\n",
    "<summary> Click to see the answer! </summary>\n",
    "\n",
    "The pair-correlation function corresponds to sampeling the last 15fs of a total simulation time of 195fs, as you can see from the bad quality of the pair-correlation function.\n",
    "\n",
    "</details>"
   ]
  }
 ],
 "metadata": {
  "kernelspec": {
   "display_name": "Python 3.9.12",
   "language": "python",
   "name": "python3"
  },
  "language_info": {
   "codemirror_mode": {
    "name": "ipython",
    "version": 3
   },
   "file_extension": ".py",
   "mimetype": "text/x-python",
   "name": "python",
   "nbconvert_exporter": "python",
   "pygments_lexer": "ipython3",
   "version": "3.9.12"
  },
  "orig_nbformat": 4,
  "vscode": {
   "interpreter": {
    "hash": "5b28bbd588845d2a9b4df611d1a552cb122c2e98aa8d1e40e24b8a1e4baede15"
   }
  }
 },
 "nbformat": 4,
 "nbformat_minor": 2
}
