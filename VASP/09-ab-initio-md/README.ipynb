{
 "cells": [
  {
   "cell_type": "markdown",
   "metadata": {},
   "source": [
    "***\n",
    "<a name=\"MD-e03\"></a>\n",
    "### **3 Monitoring molecular geometry** <div style=\"float: right\"><a href=#top-MD-p1>$\\uparrow$</a></div>"
   ]
  },
  {
   "cell_type": "markdown",
   "metadata": {},
   "source": [
    "By the end of this tutorial, you will be able to:\n",
    "- specify geometric coordinates in the **ICONST** file\n",
    "- monitor coordinates by means of the **REPORT** file\n",
    "- estimate the length of a simulation\n",
    "- simulate an NpT ensemble using the Langevin thermostat\n",
    "- create a **POSCAR** for a supercell without guidance"
   ]
  },
  {
   "cell_type": "markdown",
   "metadata": {},
   "source": [
    "#### **3.1 Task**"
   ]
  },
  {
   "cell_type": "markdown",
   "metadata": {},
   "source": [
    "*Monitor the geometric coordinates during an ab-initio MD simulation of 16 silicon atoms in an NpT ensemble using the Langevin thermostat.*\n",
    "\n",
    "There are variouse [thermostats implemented in VASP](https://www.vasp.at/wiki/index.php/Category:Thermostats). The thermostat is set using the [MDALGO](https://www.vasp.at/wiki/index.php/MDALGO) tag. In the present example, we are using the [Langevin thermostat](https://www.vasp.at/wiki/index.php/Langevin_thermostat) with [MDALGO = 3](https://www.vasp.at/wiki/index.php/MDALGO). It has both, stochastic and deterministic, terms that modify the equations of motion. The deterministic [Nosé-Hoover thermostat](https://www.vasp.at/wiki/index.php/Nose-Hoover_thermostat) was used in [Example 1](#MD-e01) and [2](#MD-e02). The [Andersen thermostat](https://www.vasp.at/wiki/index.php/Andersen_thermostat) with [MDALGO = 1](https://www.vasp.at/wiki/index.php/MDALGO) introduces temperature entirely stochastically.\n",
    "\n",
    "For systems with strong intramolecular forces, e.g., bond streching, the [Andersen thermostat](https://www.vasp.at/wiki/index.php/Andersen_thermostat) and [Langevin thermostat](https://www.vasp.at/wiki/index.php/Langevin_thermostat) do not introduce any extra concerns regarding [ergodicity](https://en.wikipedia.org/wiki/Ergodicity). Actually, they are quite effective at equilibrating such degrees of freedom. In contrast, the [Nosé-Hoover thermostat](https://www.vasp.at/wiki/index.php/Nose-Hoover_thermostat) lacks [ergodicity](https://en.wikipedia.org/wiki/Ergodicity) in small or stiff systems. For instance, this is seen in the [simulation of a single butane molecule](https://doi.org/10.1021/jp013689i). In practice, the choice of the thermostat mostly depends on the choice of the thermodynamic ensemble as implemented in VASP. Check out the [possible combinations of thermostats and ensembles](https://www.vasp.at/wiki/index.php/Category:Ensembles) on the [VASP Wiki](https://www.vasp.at/wiki/index.php)!\n",
    "\n",
    "During an MD simulation, you might want to monitor the arrangement of atoms at each time step. This arrangement of atoms broughtly falls under the keyword of [molecular geometry](https://en.wikipedia.org/wiki/Molecular_geometry). In VASP, you can specify the internal geometric coordinates by means of the [ICONST](https://www.vasp.at/wiki/index.php/ICONST) file. Check out the description on the [VASP Wiki](https://www.vasp.at/wiki/index.php)!"
   ]
  },
  {
   "cell_type": "markdown",
   "metadata": {},
   "source": [
    "#### **3.2 Input**"
   ]
  },
  {
   "cell_type": "code",
   "execution_count": null,
   "metadata": {
    "scrolled": true
   },
   "outputs": [],
   "source": [
    "from pymatgen.core import Structure\n",
    "\n",
    "my_struc = Structure.from_file(\"./e03_monitoring/Si_mp-149_conventional_standard.cif\", primitive=True)\n",
    "\n",
    "# make a 2x2x2 supercell of the primitive unit cell\n",
    "\n",
    "# write supercell to POSCAR format \n",
    "# with filename=\"./e03_monitoring/POSCAR\" "
   ]
  },
  {
   "cell_type": "markdown",
   "metadata": {},
   "source": [
    "You can compare the [POSCAR](https://www.vasp.at/wiki/index.php/POSCAR) file that you created with [POSCAR](https://www.vasp.at/wiki/index.php/POSCAR).ref or see below. "
   ]
  },
  {
   "cell_type": "markdown",
   "metadata": {},
   "source": [
    "[POSCAR](https://www.vasp.at/wiki/index.php/POSCAR)\n",
    "***\n",
    "```\n",
    "Si16\n",
    "1.0\n",
    "-5.468728 -5.468728 0.000000\n",
    "-5.468728 0.000000 -5.468728\n",
    "-0.000000 -5.468728 -5.468728\n",
    "Si\n",
    "16\n",
    "direct\n",
    "0.125000 0.125000 0.125000 Si\n",
    "0.125000 0.125000 0.625000 Si\n",
    "0.125000 0.625000 0.125000 Si\n",
    "0.125000 0.625000 0.625000 Si\n",
    "0.625000 0.125000 0.125000 Si\n",
    "0.625000 0.125000 0.625000 Si\n",
    "0.625000 0.625000 0.125000 Si\n",
    "0.625000 0.625000 0.625000 Si\n",
    "0.250000 0.250000 0.250000 Si\n",
    "0.250000 0.250000 0.750000 Si\n",
    "0.250000 0.750000 0.250000 Si\n",
    "0.250000 0.750000 0.750000 Si\n",
    "0.750000 0.250000 0.250000 Si\n",
    "0.750000 0.250000 0.750000 Si\n",
    "0.750000 0.750000 0.250000 Si\n",
    "0.750000 0.750000 0.750000 Si\n",
    "```\n",
    "***\n",
    "[INCAR](https://www.vasp.at/wiki/index.php/INCAR)\n",
    "***\n",
    "```\n",
    "SYSTEM = Si16\n",
    "ISYM   = 0        ! no symmetry imposed\n",
    "\n",
    "! ab initio\n",
    "PREC   = Normal\n",
    "IVDW   = 10\n",
    "\n",
    "ISMEAR = -1      ! Fermi smearing\n",
    "SIGMA  = 0.0258  ! smearing in eV\n",
    "\n",
    "ENCUT  = 300\n",
    "EDIFF  = 1e-6\n",
    "\n",
    "LWAVE  = F\n",
    "LCHARG = F\n",
    "\n",
    "LREAL  = F\n",
    "\n",
    "! MD\n",
    "IBRION = 0        ! MD (treat ionic dgr of freedom)\n",
    "NSW    = 10       ! no of ionic steps\n",
    "POTIM  = 2.0      ! MD time step in fs\n",
    "\n",
    "MDALGO = 3                ! Langevin thermostat\n",
    "LANGEVIN_GAMMA   = 1      ! friction\n",
    "LANGEVIN_GAMMA_L = 10     ! lattice friction\n",
    "PMASS  = 10               ! lattice mass\n",
    "TEBEG  = 400              ! temperature\n",
    "\n",
    "ISIF   = 3        ! update positions, cell shape and volume \n",
    "```\n",
    "***\n",
    "[ICONST](https://www.vasp.at/wiki/index.php/ICONST)\n",
    "***\n",
    "```\n",
    "LR 1 7\n",
    "LR 2 7\n",
    "LR 3 7\n",
    "LA 2 3 7\n",
    "LA 1 3 7\n",
    "LA 1 2 7\n",
    "LV 7\n",
    "```\n",
    "***\n",
    "[KPOINTS](https://www.vasp.at/wiki/index.php/KPOINTS)\n",
    "***\n",
    "```\n",
    "Not only Gamma point\n",
    " 0\n",
    "Gamma\n",
    " 2 2 2\n",
    " 0 0 0\n",
    "```\n",
    "***\n",
    "[POTCAR](https://www.vasp.at/wiki/index.php/POTCAR)\n",
    "***\n",
    "&emsp;*Pseudopotentials of Si.*\n",
    "***"
   ]
  },
  {
   "cell_type": "markdown",
   "metadata": {},
   "source": [
    "In the [INCAR](https://www.vasp.at/wiki/index.php/INCAR) file, the use of spacegroup symmetry in the entire calculation is switched off with [ISYM](https://www.vasp.at/wiki/index.php/ISYM)=0. In the DFT steps, the precision is set to normal using the [PREC](https://www.vasp.at/wiki/index.php/PREC) tag and van der Waals corrections are considered with [IVDW](https://www.vasp.at/wiki/index.php/IVDW). Besides other common parameters set for DFT calculations, we switch of writing the [WAVECAR](https://www.vasp.at/wiki/index.php/WAVECAR) and [CHGCAR](https://www.vasp.at/wiki/index.php/CHGCAR) files.\n",
    "\n",
    "Tags regarding MD steps include [IBRION](https://www.vasp.at/wiki/index.php/IBRION), [NSW](https://www.vasp.at/wiki/index.php/NSW), and [POTIM](https://www.vasp.at/wiki/index.php/POTIM). Recall their meaning!\n",
    "Additionally, [ISIF](https://www.vasp.at/wiki/index.php/ISIF)=3 and [MDALGO](https://www.vasp.at/wiki/index.php/MDALGO)=3 selects the NpT ensemble emploing the Langevin thermostat. Check out the related tags on the [VASP Wiki](https://www.vasp.at/wiki/index.php)!\n",
    "\n",
    "The [ICONST](https://www.vasp.at/wiki/index.php/ICONST) file specifies a number of geometric coordinates that are monitored. The first column defines the kind of geometric coordinate, e.g., the distance of an ion to the origin, or an angle. The following integers refer to the atoms in the same order as defined in the [POSCAR](https://www.vasp.at/wiki/index.php/POSCAR) file. That is execpt for the last integer, which specifies the action, i.e., 7 defines monitoring. \n",
    "\n",
    "The [KPOINTS](https://www.vasp.at/wiki/index.php/KPOINTS) file defines a uniform $/vec{k}$ mesh spanning two reciprocal lattice vectors in each direction including the Gamma point. It would be preferable to use a larger unit cell instead but this is computationally expensive. In practice, you need to check whether the quantity of interest is converged with respect to the size of the unit cell and number of $\\vec{k}$ points. Here, we merely monitor some geometric coordinates, so the settings are adequate."
   ]
  },
  {
   "cell_type": "markdown",
   "metadata": {},
   "source": [
    "#### **3.3 Calculation**"
   ]
  },
  {
   "cell_type": "markdown",
   "metadata": {},
   "source": [
    "Open a terminal, navigate to this example's directory and run VASP by entering the following:\n",
    "```shell\n",
    "cd $TUTORIALS/md-part1/e03_*\n",
    "mpirun -np 4 vasp_std\n",
    "```\n",
    "\n",
    "Note, that here you need to use the executable `vasp_std` instead of `vasp_gam`. Why is that?"
   ]
  },
  {
   "cell_type": "markdown",
   "metadata": {},
   "source": [
    "<details>\n",
    "<summary> Click to see the answer! </summary>\n",
    "\n",
    "The executable `vasp_gam` can only be used for calculations considering a single $\\vec{k}$ point, that is the Gamma point, because VASP internally considers some arrays to contain real numbers instead of complex numbers. Here, the  [KPOINTS](https://www.vasp.at/wiki/index.php/KPOINTS) file defines a uniform $/vec{k}$ mesh, i.e., more than just the Gamma point.\n",
    "\n",
    "</details>"
   ]
  },
  {
   "cell_type": "markdown",
   "metadata": {},
   "source": [
    "Open the [REPORT](https://www.vasp.at/wiki/index.php/REPORT) file and find the monitored coordinates in each MD step!\n",
    "\n",
    "For instance, in the first MD you will find\n",
    "```\n",
    "========================================\n",
    "         MD step No.       1\n",
    "========================================\n",
    "\n",
    "  Atomic velocities initialized by STEP_tb\n",
    "\n",
    "  >Monit_coord\n",
    "   mc> LR         7.73395\n",
    "   mc> LR         7.73395\n",
    "   mc> LR         7.73395\n",
    "   mc> LA         1.04720\n",
    "   mc> LA         1.04720\n",
    "   mc> LA         1.04720\n",
    "   mc> LV       327.10634\n",
    "\n",
    "  Lattice velocities initialized by STEP_tb\n",
    "\n",
    "   t_b>    400.000    396.375    212.541    367.348\n",
    "\n",
    "  >Energies\n",
    "                    E_tot             E_pot             E_kin               EPS                ES\n",
    "   e_b>   -0.87877738E+02   -0.88779929E+02    0.90219107E+00    0.00000000E+00\n",
    "    0.00000000E+00\n",
    "\n",
    "           RANDOM_SEED =         414621889              228                0\n",
    "```\n",
    "\n",
    "Extract the monitored volume and plot it!"
   ]
  },
  {
   "cell_type": "code",
   "execution_count": null,
   "metadata": {
    "tags": []
   },
   "outputs": [],
   "source": [
    "! cat ./e03_monitoring/REPORT | grep \"mc> LV\" > ./e03_monitoring/monitored_cell_volume.dat\n",
    "\n",
    "import numpy as np\n",
    "import plotly.express as px\n",
    "import pandas as pd\n",
    "\n",
    "volume = np.loadtxt(\"./e03_monitoring/monitored_cell_volume.dat\", usecols=2)\n",
    "\n",
    "# plot the volume\n",
    "df = pd.DataFrame({\"Volume (A^3)\": volume, \"Number of MD steps\": np.arange(len(volume))+1})\n",
    "px.line(df, x=\"Number of MD steps\", y=\"Volume (A^3)\")"
   ]
  },
  {
   "cell_type": "markdown",
   "metadata": {},
   "source": [
    "Open the [OUTCAR](https://www.vasp.at/wiki/index.php/OUTCAR) file and find the elapsed time! How long did the completion of 10 ab-initio MD steps take? Use this result to estimate the computational time necessary to generate a MD trajectory of 10000 MD steps! "
   ]
  },
  {
   "cell_type": "markdown",
   "metadata": {},
   "source": [
    "<details>\n",
    "<summary> Click to see the answer! </summary>\n",
    "\n",
    "Depending on the exact hardware and computational setup, these 10 MD steps take roughly 74sec. Then, 10000 MD steps take more than 20h!\n",
    "\n",
    "</details>"
   ]
  },
  {
   "cell_type": "markdown",
   "metadata": {},
   "source": [
    "10000 MD steps is a typical number of steps necessary to deduce anything reasonable from an MD simulation. Therefore, this example shows that ab-initio MD simulations are computationally expensive and time-consuming. This renders ab-initio MD infeasible for many systems."
   ]
  },
  {
   "cell_type": "markdown",
   "metadata": {},
   "source": [
    "#### **3.4 Questions**\n",
    "1. What does a line that reads `R 1 6 0` in the **ICONST** file define?\n",
    "2. How can the computational time of a long MD simulation be estimated?\n",
    "3. What does the **LANGEVIN_GAMMA** tag specify?"
   ]
  }
 ],
 "metadata": {
  "kernelspec": {
   "display_name": "Python 3.9.12",
   "language": "python",
   "name": "python3"
  },
  "language_info": {
   "codemirror_mode": {
    "name": "ipython",
    "version": 3
   },
   "file_extension": ".py",
   "mimetype": "text/x-python",
   "name": "python",
   "nbconvert_exporter": "python",
   "pygments_lexer": "ipython3",
   "version": "3.9.12"
  },
  "vscode": {
   "interpreter": {
    "hash": "5b28bbd588845d2a9b4df611d1a552cb122c2e98aa8d1e40e24b8a1e4baede15"
   }
  },
  "widgets": {
   "application/vnd.jupyter.widget-state+json": {
    "state": {},
    "version_major": 2,
    "version_minor": 0
   }
  }
 },
 "nbformat": 4,
 "nbformat_minor": 4
}
